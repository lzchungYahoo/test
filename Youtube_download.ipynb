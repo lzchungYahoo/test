{
  "nbformat": 4,
  "nbformat_minor": 0,
  "metadata": {
    "colab": {
      "provenance": [],
      "authorship_tag": "ABX9TyNyf1QAMSWG8vPvrlXTZ9Ud",
      "include_colab_link": true
    },
    "kernelspec": {
      "name": "python3",
      "display_name": "Python 3"
    },
    "language_info": {
      "name": "python"
    }
  },
  "cells": [
    {
      "cell_type": "markdown",
      "metadata": {
        "id": "view-in-github",
        "colab_type": "text"
      },
      "source": [
        "<a href=\"https://colab.research.google.com/github/lzchungYahoo/test/blob/main/Youtube_download.ipynb\" target=\"_parent\"><img src=\"https://colab.research.google.com/assets/colab-badge.svg\" alt=\"Open In Colab\"/></a>"
      ]
    },
    {
      "cell_type": "markdown",
      "source": [
        "**#下載youtube影片**"
      ],
      "metadata": {
        "id": "Mpt3A693_Ucf"
      }
    },
    {
      "cell_type": "code",
      "source": [
        "!pip install  pytubefix\n"
      ],
      "metadata": {
        "id": "GSenQSq__xwY",
        "colab": {
          "base_uri": "https://localhost:8080/"
        },
        "outputId": "17dca10f-de3f-482d-f7fa-d7322f9c69e3"
      },
      "execution_count": 1,
      "outputs": [
        {
          "output_type": "stream",
          "name": "stdout",
          "text": [
            "Collecting pytubefix\n",
            "  Downloading pytubefix-8.13.1-py3-none-any.whl.metadata (5.3 kB)\n",
            "Downloading pytubefix-8.13.1-py3-none-any.whl (731 kB)\n",
            "\u001b[?25l   \u001b[90m━━━━━━━━━━━━━━━━━━━━━━━━━━━━━━━━━━━━━━━━\u001b[0m \u001b[32m0.0/731.5 kB\u001b[0m \u001b[31m?\u001b[0m eta \u001b[36m-:--:--\u001b[0m\r\u001b[2K   \u001b[91m━━━━━━━━━━━━━━━━━━━━━━━━━━━━━━━━━━━━━━━\u001b[0m\u001b[91m╸\u001b[0m \u001b[32m727.0/731.5 kB\u001b[0m \u001b[31m50.3 MB/s\u001b[0m eta \u001b[36m0:00:01\u001b[0m\r\u001b[2K   \u001b[90m━━━━━━━━━━━━━━━━━━━━━━━━━━━━━━━━━━━━━━━━\u001b[0m \u001b[32m731.5/731.5 kB\u001b[0m \u001b[31m19.1 MB/s\u001b[0m eta \u001b[36m0:00:00\u001b[0m\n",
            "\u001b[?25hInstalling collected packages: pytubefix\n",
            "Successfully installed pytubefix-8.13.1\n"
          ]
        }
      ]
    },
    {
      "cell_type": "code",
      "source": [
        "# download Youtube vidoes\n",
        "\n",
        "from pytubefix  import YouTube\n",
        "from pytubefix.cli import on_progress\n",
        "\n",
        "\n",
        "url = \"https://www.youtube.com/watch?v=aFPk-JcEaXM\"\n",
        "\n",
        "yt = YouTube(url, on_progress_callback=on_progress)\n",
        "\n",
        "print( yt.title )\n",
        "\n",
        "\n",
        "ys = yt.streams.get_highest_resolution()\n",
        "# ya = yt.streams.get_audio_only()\n",
        "\n",
        "ys.download(output_path=\".\", filename=\"video.mp4\")\n",
        "# ya.download(output_path=\".\", filename=\"audio.mp3\")\n",
        "print(\"Download complete!\")\n",
        "\n",
        "\n"
      ],
      "metadata": {
        "colab": {
          "base_uri": "https://localhost:8080/"
        },
        "id": "S2fTW1PjCPDW",
        "outputId": "c9a50df4-ec86-4d24-86a6-d6ed87fc8a33"
      },
      "execution_count": 2,
      "outputs": [
        {
          "output_type": "stream",
          "name": "stdout",
          "text": [
            "1000台股分析/新台幣暴衝! 重現29元 盤中升破1元｜TVBS新聞 @TVBSNEWS01\n",
            "Download complete!\n"
          ]
        }
      ]
    }
  ]
}